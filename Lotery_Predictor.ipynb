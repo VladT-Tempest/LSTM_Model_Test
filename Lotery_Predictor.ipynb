{
 "cells": [
  {
   "cell_type": "markdown",
   "metadata": {},
   "source": [
    "# Objective\n",
    "\n",
    "Predict 3 of 6 numbers in a dataset of a Israeli lottery game. The dataset is based on the results of Isareli general lottery games between September 1968 and May 2022.\n",
    "\n",
    "[URL](https://medium.com/@polanitzer/how-to-guess-accurately-3-lottery-numbers-out-of-6-using-lstm-model-e148d1c632d6)"
   ]
  },
  {
   "cell_type": "markdown",
   "metadata": {},
   "source": [
    "## How it does it work?\n",
    "\n",
    "The israeli lottert called Loto is a weekly game where the participant chooses 6 numbers out of 37 and an additional number out of 7."
   ]
  },
  {
   "cell_type": "markdown",
   "metadata": {},
   "source": [
    "### Working the data"
   ]
  },
  {
   "cell_type": "code",
   "execution_count": 1,
   "metadata": {},
   "outputs": [],
   "source": [
    "import numpy as np \n",
    "import pandas as pd  \n",
    "from sklearn.preprocessing import StandardScaler\n",
    "from keras.models import Sequential\n",
    "from keras.layers import LSTM, Dense, Bidirectional, Dropout"
   ]
  },
  {
   "cell_type": "markdown",
   "metadata": {},
   "source": [
    "let's load the dataset"
   ]
  },
  {
   "cell_type": "code",
   "execution_count": 2,
   "metadata": {},
   "outputs": [],
   "source": [
    "file = './data/IsraeliLottery.csv'\n",
    "df = pd.read_csv(file)"
   ]
  },
  {
   "cell_type": "code",
   "execution_count": 3,
   "metadata": {},
   "outputs": [
    {
     "data": {
      "text/html": [
       "<div>\n",
       "<style scoped>\n",
       "    .dataframe tbody tr th:only-of-type {\n",
       "        vertical-align: middle;\n",
       "    }\n",
       "\n",
       "    .dataframe tbody tr th {\n",
       "        vertical-align: top;\n",
       "    }\n",
       "\n",
       "    .dataframe thead th {\n",
       "        text-align: right;\n",
       "    }\n",
       "</style>\n",
       "<table border=\"1\" class=\"dataframe\">\n",
       "  <thead>\n",
       "    <tr style=\"text-align: right;\">\n",
       "      <th></th>\n",
       "      <th>Game</th>\n",
       "      <th>Date</th>\n",
       "      <th>A</th>\n",
       "      <th>B</th>\n",
       "      <th>C</th>\n",
       "      <th>D</th>\n",
       "      <th>E</th>\n",
       "      <th>F</th>\n",
       "    </tr>\n",
       "  </thead>\n",
       "  <tbody>\n",
       "    <tr>\n",
       "      <th>0</th>\n",
       "      <td>6801</td>\n",
       "      <td>03/09/1968</td>\n",
       "      <td>3</td>\n",
       "      <td>14</td>\n",
       "      <td>18</td>\n",
       "      <td>22</td>\n",
       "      <td>25</td>\n",
       "      <td>33</td>\n",
       "    </tr>\n",
       "    <tr>\n",
       "      <th>1</th>\n",
       "      <td>6802</td>\n",
       "      <td>10/09/1968</td>\n",
       "      <td>13</td>\n",
       "      <td>20</td>\n",
       "      <td>23</td>\n",
       "      <td>29</td>\n",
       "      <td>32</td>\n",
       "      <td>34</td>\n",
       "    </tr>\n",
       "    <tr>\n",
       "      <th>2</th>\n",
       "      <td>6803</td>\n",
       "      <td>17/09/1968</td>\n",
       "      <td>8</td>\n",
       "      <td>12</td>\n",
       "      <td>26</td>\n",
       "      <td>27</td>\n",
       "      <td>34</td>\n",
       "      <td>38</td>\n",
       "    </tr>\n",
       "    <tr>\n",
       "      <th>3</th>\n",
       "      <td>6804</td>\n",
       "      <td>24/09/1968</td>\n",
       "      <td>1</td>\n",
       "      <td>14</td>\n",
       "      <td>17</td>\n",
       "      <td>26</td>\n",
       "      <td>35</td>\n",
       "      <td>39</td>\n",
       "    </tr>\n",
       "    <tr>\n",
       "      <th>4</th>\n",
       "      <td>6805</td>\n",
       "      <td>01/10/1968</td>\n",
       "      <td>1</td>\n",
       "      <td>7</td>\n",
       "      <td>8</td>\n",
       "      <td>9</td>\n",
       "      <td>11</td>\n",
       "      <td>30</td>\n",
       "    </tr>\n",
       "  </tbody>\n",
       "</table>\n",
       "</div>"
      ],
      "text/plain": [
       "   Game        Date   A   B   C   D   E   F\n",
       "0  6801  03/09/1968   3  14  18  22  25  33\n",
       "1  6802  10/09/1968  13  20  23  29  32  34\n",
       "2  6803  17/09/1968   8  12  26  27  34  38\n",
       "3  6804  24/09/1968   1  14  17  26  35  39\n",
       "4  6805  01/10/1968   1   7   8   9  11  30"
      ]
     },
     "execution_count": 3,
     "metadata": {},
     "output_type": "execute_result"
    }
   ],
   "source": [
    "df.head()"
   ]
  },
  {
   "cell_type": "code",
   "execution_count": 4,
   "metadata": {},
   "outputs": [
    {
     "data": {
      "text/html": [
       "<div>\n",
       "<style scoped>\n",
       "    .dataframe tbody tr th:only-of-type {\n",
       "        vertical-align: middle;\n",
       "    }\n",
       "\n",
       "    .dataframe tbody tr th {\n",
       "        vertical-align: top;\n",
       "    }\n",
       "\n",
       "    .dataframe thead th {\n",
       "        text-align: right;\n",
       "    }\n",
       "</style>\n",
       "<table border=\"1\" class=\"dataframe\">\n",
       "  <thead>\n",
       "    <tr style=\"text-align: right;\">\n",
       "      <th></th>\n",
       "      <th>Game</th>\n",
       "      <th>Date</th>\n",
       "      <th>A</th>\n",
       "      <th>B</th>\n",
       "      <th>C</th>\n",
       "      <th>D</th>\n",
       "      <th>E</th>\n",
       "      <th>F</th>\n",
       "    </tr>\n",
       "  </thead>\n",
       "  <tbody>\n",
       "    <tr>\n",
       "      <th>4042</th>\n",
       "      <td>3467</td>\n",
       "      <td>14/05/2022</td>\n",
       "      <td>9</td>\n",
       "      <td>16</td>\n",
       "      <td>17</td>\n",
       "      <td>21</td>\n",
       "      <td>26</td>\n",
       "      <td>29</td>\n",
       "    </tr>\n",
       "    <tr>\n",
       "      <th>4043</th>\n",
       "      <td>3468</td>\n",
       "      <td>17/05/2022</td>\n",
       "      <td>1</td>\n",
       "      <td>4</td>\n",
       "      <td>5</td>\n",
       "      <td>24</td>\n",
       "      <td>31</td>\n",
       "      <td>32</td>\n",
       "    </tr>\n",
       "    <tr>\n",
       "      <th>4044</th>\n",
       "      <td>3469</td>\n",
       "      <td>19/05/2022</td>\n",
       "      <td>1</td>\n",
       "      <td>8</td>\n",
       "      <td>18</td>\n",
       "      <td>25</td>\n",
       "      <td>29</td>\n",
       "      <td>30</td>\n",
       "    </tr>\n",
       "    <tr>\n",
       "      <th>4045</th>\n",
       "      <td>3470</td>\n",
       "      <td>21/05/2022</td>\n",
       "      <td>3</td>\n",
       "      <td>4</td>\n",
       "      <td>5</td>\n",
       "      <td>15</td>\n",
       "      <td>24</td>\n",
       "      <td>33</td>\n",
       "    </tr>\n",
       "    <tr>\n",
       "      <th>4046</th>\n",
       "      <td>3471</td>\n",
       "      <td>24/05/2022</td>\n",
       "      <td>6</td>\n",
       "      <td>10</td>\n",
       "      <td>13</td>\n",
       "      <td>20</td>\n",
       "      <td>23</td>\n",
       "      <td>35</td>\n",
       "    </tr>\n",
       "  </tbody>\n",
       "</table>\n",
       "</div>"
      ],
      "text/plain": [
       "      Game        Date  A   B   C   D   E   F\n",
       "4042  3467  14/05/2022  9  16  17  21  26  29\n",
       "4043  3468  17/05/2022  1   4   5  24  31  32\n",
       "4044  3469  19/05/2022  1   8  18  25  29  30\n",
       "4045  3470  21/05/2022  3   4   5  15  24  33\n",
       "4046  3471  24/05/2022  6  10  13  20  23  35"
      ]
     },
     "execution_count": 4,
     "metadata": {},
     "output_type": "execute_result"
    }
   ],
   "source": [
    "df.tail()"
   ]
  },
  {
   "cell_type": "code",
   "execution_count": 5,
   "metadata": {},
   "outputs": [
    {
     "data": {
      "text/plain": [
       "(4047, 8)"
      ]
     },
     "execution_count": 5,
     "metadata": {},
     "output_type": "execute_result"
    }
   ],
   "source": [
    "df.shape"
   ]
  },
  {
   "cell_type": "code",
   "execution_count": 6,
   "metadata": {},
   "outputs": [
    {
     "name": "stdout",
     "output_type": "stream",
     "text": [
      "<class 'pandas.core.frame.DataFrame'>\n",
      "RangeIndex: 4047 entries, 0 to 4046\n",
      "Data columns (total 8 columns):\n",
      " #   Column  Non-Null Count  Dtype \n",
      "---  ------  --------------  ----- \n",
      " 0   Game    4047 non-null   int64 \n",
      " 1   Date    4047 non-null   object\n",
      " 2   A       4047 non-null   int64 \n",
      " 3   B       4047 non-null   int64 \n",
      " 4   C       4047 non-null   int64 \n",
      " 5   D       4047 non-null   int64 \n",
      " 6   E       4047 non-null   int64 \n",
      " 7   F       4047 non-null   int64 \n",
      "dtypes: int64(7), object(1)\n",
      "memory usage: 253.1+ KB\n"
     ]
    }
   ],
   "source": [
    "df.info()"
   ]
  },
  {
   "cell_type": "markdown",
   "metadata": {},
   "source": [
    "No null/missing values"
   ]
  },
  {
   "cell_type": "code",
   "execution_count": 7,
   "metadata": {},
   "outputs": [
    {
     "data": {
      "text/html": [
       "<div>\n",
       "<style scoped>\n",
       "    .dataframe tbody tr th:only-of-type {\n",
       "        vertical-align: middle;\n",
       "    }\n",
       "\n",
       "    .dataframe tbody tr th {\n",
       "        vertical-align: top;\n",
       "    }\n",
       "\n",
       "    .dataframe thead th {\n",
       "        text-align: right;\n",
       "    }\n",
       "</style>\n",
       "<table border=\"1\" class=\"dataframe\">\n",
       "  <thead>\n",
       "    <tr style=\"text-align: right;\">\n",
       "      <th></th>\n",
       "      <th>Game</th>\n",
       "      <th>A</th>\n",
       "      <th>B</th>\n",
       "      <th>C</th>\n",
       "      <th>D</th>\n",
       "      <th>E</th>\n",
       "      <th>F</th>\n",
       "    </tr>\n",
       "  </thead>\n",
       "  <tbody>\n",
       "    <tr>\n",
       "      <th>count</th>\n",
       "      <td>4047.000000</td>\n",
       "      <td>4047.000000</td>\n",
       "      <td>4047.000000</td>\n",
       "      <td>4047.000000</td>\n",
       "      <td>4047.000000</td>\n",
       "      <td>4047.000000</td>\n",
       "      <td>4047.000000</td>\n",
       "    </tr>\n",
       "    <tr>\n",
       "      <th>mean</th>\n",
       "      <td>4695.399061</td>\n",
       "      <td>5.698542</td>\n",
       "      <td>11.428713</td>\n",
       "      <td>17.128737</td>\n",
       "      <td>22.948357</td>\n",
       "      <td>28.795404</td>\n",
       "      <td>34.635285</td>\n",
       "    </tr>\n",
       "    <tr>\n",
       "      <th>std</th>\n",
       "      <td>3106.179305</td>\n",
       "      <td>4.635402</td>\n",
       "      <td>5.988067</td>\n",
       "      <td>6.698026</td>\n",
       "      <td>6.820599</td>\n",
       "      <td>6.616360</td>\n",
       "      <td>5.910514</td>\n",
       "    </tr>\n",
       "    <tr>\n",
       "      <th>min</th>\n",
       "      <td>1035.000000</td>\n",
       "      <td>1.000000</td>\n",
       "      <td>2.000000</td>\n",
       "      <td>3.000000</td>\n",
       "      <td>4.000000</td>\n",
       "      <td>7.000000</td>\n",
       "      <td>13.000000</td>\n",
       "    </tr>\n",
       "    <tr>\n",
       "      <th>25%</th>\n",
       "      <td>2046.500000</td>\n",
       "      <td>2.000000</td>\n",
       "      <td>7.000000</td>\n",
       "      <td>12.000000</td>\n",
       "      <td>18.000000</td>\n",
       "      <td>24.000000</td>\n",
       "      <td>31.000000</td>\n",
       "    </tr>\n",
       "    <tr>\n",
       "      <th>50%</th>\n",
       "      <td>3058.000000</td>\n",
       "      <td>4.000000</td>\n",
       "      <td>10.000000</td>\n",
       "      <td>17.000000</td>\n",
       "      <td>23.000000</td>\n",
       "      <td>29.000000</td>\n",
       "      <td>35.000000</td>\n",
       "    </tr>\n",
       "    <tr>\n",
       "      <th>75%</th>\n",
       "      <td>8011.500000</td>\n",
       "      <td>8.000000</td>\n",
       "      <td>15.000000</td>\n",
       "      <td>22.000000</td>\n",
       "      <td>28.000000</td>\n",
       "      <td>33.000000</td>\n",
       "      <td>38.000000</td>\n",
       "    </tr>\n",
       "    <tr>\n",
       "      <th>max</th>\n",
       "      <td>9934.000000</td>\n",
       "      <td>31.000000</td>\n",
       "      <td>37.000000</td>\n",
       "      <td>44.000000</td>\n",
       "      <td>46.000000</td>\n",
       "      <td>48.000000</td>\n",
       "      <td>49.000000</td>\n",
       "    </tr>\n",
       "  </tbody>\n",
       "</table>\n",
       "</div>"
      ],
      "text/plain": [
       "              Game            A            B            C            D  \\\n",
       "count  4047.000000  4047.000000  4047.000000  4047.000000  4047.000000   \n",
       "mean   4695.399061     5.698542    11.428713    17.128737    22.948357   \n",
       "std    3106.179305     4.635402     5.988067     6.698026     6.820599   \n",
       "min    1035.000000     1.000000     2.000000     3.000000     4.000000   \n",
       "25%    2046.500000     2.000000     7.000000    12.000000    18.000000   \n",
       "50%    3058.000000     4.000000    10.000000    17.000000    23.000000   \n",
       "75%    8011.500000     8.000000    15.000000    22.000000    28.000000   \n",
       "max    9934.000000    31.000000    37.000000    44.000000    46.000000   \n",
       "\n",
       "                 E            F  \n",
       "count  4047.000000  4047.000000  \n",
       "mean     28.795404    34.635285  \n",
       "std       6.616360     5.910514  \n",
       "min       7.000000    13.000000  \n",
       "25%      24.000000    31.000000  \n",
       "50%      29.000000    35.000000  \n",
       "75%      33.000000    38.000000  \n",
       "max      48.000000    49.000000  "
      ]
     },
     "execution_count": 7,
     "metadata": {},
     "output_type": "execute_result"
    }
   ],
   "source": [
    "df.describe()"
   ]
  },
  {
   "cell_type": "markdown",
   "metadata": {},
   "source": [
    "some features will not be usefull as \"Game\" and \"Date\", so, we'll drop off them."
   ]
  },
  {
   "cell_type": "code",
   "execution_count": 8,
   "metadata": {},
   "outputs": [
    {
     "data": {
      "text/html": [
       "<div>\n",
       "<style scoped>\n",
       "    .dataframe tbody tr th:only-of-type {\n",
       "        vertical-align: middle;\n",
       "    }\n",
       "\n",
       "    .dataframe tbody tr th {\n",
       "        vertical-align: top;\n",
       "    }\n",
       "\n",
       "    .dataframe thead th {\n",
       "        text-align: right;\n",
       "    }\n",
       "</style>\n",
       "<table border=\"1\" class=\"dataframe\">\n",
       "  <thead>\n",
       "    <tr style=\"text-align: right;\">\n",
       "      <th></th>\n",
       "      <th>A</th>\n",
       "      <th>B</th>\n",
       "      <th>C</th>\n",
       "      <th>D</th>\n",
       "      <th>E</th>\n",
       "      <th>F</th>\n",
       "    </tr>\n",
       "  </thead>\n",
       "  <tbody>\n",
       "    <tr>\n",
       "      <th>0</th>\n",
       "      <td>3</td>\n",
       "      <td>14</td>\n",
       "      <td>18</td>\n",
       "      <td>22</td>\n",
       "      <td>25</td>\n",
       "      <td>33</td>\n",
       "    </tr>\n",
       "    <tr>\n",
       "      <th>1</th>\n",
       "      <td>13</td>\n",
       "      <td>20</td>\n",
       "      <td>23</td>\n",
       "      <td>29</td>\n",
       "      <td>32</td>\n",
       "      <td>34</td>\n",
       "    </tr>\n",
       "    <tr>\n",
       "      <th>2</th>\n",
       "      <td>8</td>\n",
       "      <td>12</td>\n",
       "      <td>26</td>\n",
       "      <td>27</td>\n",
       "      <td>34</td>\n",
       "      <td>38</td>\n",
       "    </tr>\n",
       "    <tr>\n",
       "      <th>3</th>\n",
       "      <td>1</td>\n",
       "      <td>14</td>\n",
       "      <td>17</td>\n",
       "      <td>26</td>\n",
       "      <td>35</td>\n",
       "      <td>39</td>\n",
       "    </tr>\n",
       "    <tr>\n",
       "      <th>4</th>\n",
       "      <td>1</td>\n",
       "      <td>7</td>\n",
       "      <td>8</td>\n",
       "      <td>9</td>\n",
       "      <td>11</td>\n",
       "      <td>30</td>\n",
       "    </tr>\n",
       "  </tbody>\n",
       "</table>\n",
       "</div>"
      ],
      "text/plain": [
       "    A   B   C   D   E   F\n",
       "0   3  14  18  22  25  33\n",
       "1  13  20  23  29  32  34\n",
       "2   8  12  26  27  34  38\n",
       "3   1  14  17  26  35  39\n",
       "4   1   7   8   9  11  30"
      ]
     },
     "execution_count": 8,
     "metadata": {},
     "output_type": "execute_result"
    }
   ],
   "source": [
    "df.drop(['Game', 'Date'], axis=1, inplace=True)\n",
    "df.head()"
   ]
  },
  {
   "cell_type": "markdown",
   "metadata": {},
   "source": [
    "Deep learning algorithms expect all input features to vary in a similar way, and ideally to have a mean of 0, and variance of 1. We must rescale our data so that it futfills these requirements."
   ]
  },
  {
   "cell_type": "code",
   "execution_count": 9,
   "metadata": {},
   "outputs": [],
   "source": [
    "scaler = StandardScaler().fit(df.values)\n",
    "transformed_dataset = scaler.transform(df.values)\n",
    "transformed_df = pd.DataFrame(data=transformed_dataset, index=df.index)"
   ]
  },
  {
   "cell_type": "markdown",
   "metadata": {},
   "source": [
    "Checking the scaled data:"
   ]
  },
  {
   "cell_type": "code",
   "execution_count": 10,
   "metadata": {},
   "outputs": [
    {
     "data": {
      "text/html": [
       "<div>\n",
       "<style scoped>\n",
       "    .dataframe tbody tr th:only-of-type {\n",
       "        vertical-align: middle;\n",
       "    }\n",
       "\n",
       "    .dataframe tbody tr th {\n",
       "        vertical-align: top;\n",
       "    }\n",
       "\n",
       "    .dataframe thead th {\n",
       "        text-align: right;\n",
       "    }\n",
       "</style>\n",
       "<table border=\"1\" class=\"dataframe\">\n",
       "  <thead>\n",
       "    <tr style=\"text-align: right;\">\n",
       "      <th></th>\n",
       "      <th>0</th>\n",
       "      <th>1</th>\n",
       "      <th>2</th>\n",
       "      <th>3</th>\n",
       "      <th>4</th>\n",
       "      <th>5</th>\n",
       "    </tr>\n",
       "  </thead>\n",
       "  <tbody>\n",
       "    <tr>\n",
       "      <th>0</th>\n",
       "      <td>-0.582231</td>\n",
       "      <td>0.429455</td>\n",
       "      <td>0.130094</td>\n",
       "      <td>-0.139060</td>\n",
       "      <td>-0.573710</td>\n",
       "      <td>-0.276708</td>\n",
       "    </tr>\n",
       "    <tr>\n",
       "      <th>1</th>\n",
       "      <td>1.575345</td>\n",
       "      <td>1.431572</td>\n",
       "      <td>0.876674</td>\n",
       "      <td>0.887369</td>\n",
       "      <td>0.484404</td>\n",
       "      <td>-0.107497</td>\n",
       "    </tr>\n",
       "    <tr>\n",
       "      <th>2</th>\n",
       "      <td>0.496557</td>\n",
       "      <td>0.095416</td>\n",
       "      <td>1.324623</td>\n",
       "      <td>0.594104</td>\n",
       "      <td>0.786722</td>\n",
       "      <td>0.569346</td>\n",
       "    </tr>\n",
       "    <tr>\n",
       "      <th>3</th>\n",
       "      <td>-1.013746</td>\n",
       "      <td>0.429455</td>\n",
       "      <td>-0.019223</td>\n",
       "      <td>0.447471</td>\n",
       "      <td>0.937882</td>\n",
       "      <td>0.738557</td>\n",
       "    </tr>\n",
       "    <tr>\n",
       "      <th>4</th>\n",
       "      <td>-1.013746</td>\n",
       "      <td>-0.739681</td>\n",
       "      <td>-1.363068</td>\n",
       "      <td>-2.045287</td>\n",
       "      <td>-2.689939</td>\n",
       "      <td>-0.784341</td>\n",
       "    </tr>\n",
       "  </tbody>\n",
       "</table>\n",
       "</div>"
      ],
      "text/plain": [
       "          0         1         2         3         4         5\n",
       "0 -0.582231  0.429455  0.130094 -0.139060 -0.573710 -0.276708\n",
       "1  1.575345  1.431572  0.876674  0.887369  0.484404 -0.107497\n",
       "2  0.496557  0.095416  1.324623  0.594104  0.786722  0.569346\n",
       "3 -1.013746  0.429455 -0.019223  0.447471  0.937882  0.738557\n",
       "4 -1.013746 -0.739681 -1.363068 -2.045287 -2.689939 -0.784341"
      ]
     },
     "execution_count": 10,
     "metadata": {},
     "output_type": "execute_result"
    }
   ],
   "source": [
    "transformed_df.head()"
   ]
  },
  {
   "cell_type": "markdown",
   "metadata": {},
   "source": [
    "Defining variables"
   ]
  },
  {
   "cell_type": "code",
   "execution_count": 11,
   "metadata": {},
   "outputs": [
    {
     "data": {
      "text/plain": [
       "4047"
      ]
     },
     "execution_count": 11,
     "metadata": {},
     "output_type": "execute_result"
    }
   ],
   "source": [
    "number_of_games = df.values.shape[0]\n",
    "number_of_games"
   ]
  },
  {
   "cell_type": "code",
   "execution_count": 12,
   "metadata": {},
   "outputs": [],
   "source": [
    "# Amount of games we need to take into consideration for predicction\n",
    "window_length = 7"
   ]
  },
  {
   "cell_type": "code",
   "execution_count": 13,
   "metadata": {},
   "outputs": [
    {
     "data": {
      "text/plain": [
       "6"
      ]
     },
     "execution_count": 13,
     "metadata": {},
     "output_type": "execute_result"
    }
   ],
   "source": [
    "# Ball number\n",
    "number_of_features = df.values.shape[1]\n",
    "number_of_features"
   ]
  },
  {
   "cell_type": "markdown",
   "metadata": {},
   "source": [
    "Let's crate X and y for each row in our scaled data. It should have format Keras LSTM model (rows, window size, balls)"
   ]
  },
  {
   "cell_type": "code",
   "execution_count": 14,
   "metadata": {},
   "outputs": [],
   "source": [
    "X = np.empty([number_of_games - window_length, window_length, number_of_features], dtype=float)\n",
    "\n",
    "y = np.empty([number_of_games - window_length, number_of_features],dtype=float)\n",
    "\n",
    "for i in range(number_of_games-window_length):\n",
    "    X[i] = transformed_df.iloc[i : i + window_length, 0 : number_of_features]\n",
    "\n",
    "    y[i] = transformed_df.iloc[i+window_length : i+window_length+1, 0 : number_of_features]"
   ]
  },
  {
   "cell_type": "markdown",
   "metadata": {},
   "source": [
    "Let's check out X shape:"
   ]
  },
  {
   "cell_type": "code",
   "execution_count": 15,
   "metadata": {},
   "outputs": [
    {
     "data": {
      "text/plain": [
       "(4040, 7, 6)"
      ]
     },
     "execution_count": 15,
     "metadata": {},
     "output_type": "execute_result"
    }
   ],
   "source": [
    "X.shape"
   ]
  },
  {
   "cell_type": "code",
   "execution_count": 16,
   "metadata": {},
   "outputs": [
    {
     "data": {
      "text/plain": [
       "(4040, 6)"
      ]
     },
     "execution_count": 16,
     "metadata": {},
     "output_type": "execute_result"
    }
   ],
   "source": [
    "y.shape"
   ]
  },
  {
   "cell_type": "markdown",
   "metadata": {},
   "source": [
    "Let's check out our first scaled sample (made of seven consecutevely games)"
   ]
  },
  {
   "cell_type": "code",
   "execution_count": 17,
   "metadata": {},
   "outputs": [
    {
     "data": {
      "text/plain": [
       "array([[-0.58223113,  0.429455  ,  0.1300936 , -0.13906023, -0.57371015,\n",
       "        -0.27670816],\n",
       "       [ 1.57534546,  1.43157169,  0.87667445,  0.88736948,  0.4844041 ,\n",
       "        -0.10749723],\n",
       "       [ 0.49655716,  0.0954161 ,  1.32462296,  0.59410385,  0.78672246,\n",
       "         0.56934648],\n",
       "       [-1.01374645,  0.429455  , -0.01922257,  0.44747103,  0.93788164,\n",
       "         0.7385574 ],\n",
       "       [-1.01374645, -0.73968114, -1.36306809, -2.04528682, -2.68993865,\n",
       "        -0.78434094],\n",
       "       [ 0.2807995 , -0.40564224, -1.06443575, -0.8722243 , -0.87602851,\n",
       "        -0.10749723],\n",
       "       [-1.01374645, -0.90670059,  0.87667445,  0.88736948,  0.63556328,\n",
       "        -0.10749723]])"
      ]
     },
     "execution_count": 17,
     "metadata": {},
     "output_type": "execute_result"
    }
   ],
   "source": [
    "X[0]"
   ]
  },
  {
   "cell_type": "markdown",
   "metadata": {},
   "source": [
    "Let's check out our first scaled label"
   ]
  },
  {
   "cell_type": "code",
   "execution_count": 18,
   "metadata": {},
   "outputs": [
    {
     "data": {
      "text/plain": [
       "array([-0.79798879,  0.26243555,  0.42872594,  0.1542054 , -0.57371015,\n",
       "       -1.29197372])"
      ]
     },
     "execution_count": 18,
     "metadata": {},
     "output_type": "execute_result"
    }
   ],
   "source": [
    "y[0]"
   ]
  },
  {
   "cell_type": "markdown",
   "metadata": {},
   "source": [
    "Let's check out the second scaled sample (made of seven consecutive lottery games)"
   ]
  },
  {
   "cell_type": "code",
   "execution_count": 19,
   "metadata": {},
   "outputs": [
    {
     "data": {
      "text/plain": [
       "array([[ 1.57534546,  1.43157169,  0.87667445,  0.88736948,  0.4844041 ,\n",
       "        -0.10749723],\n",
       "       [ 0.49655716,  0.0954161 ,  1.32462296,  0.59410385,  0.78672246,\n",
       "         0.56934648],\n",
       "       [-1.01374645,  0.429455  , -0.01922257,  0.44747103,  0.93788164,\n",
       "         0.7385574 ],\n",
       "       [-1.01374645, -0.73968114, -1.36306809, -2.04528682, -2.68993865,\n",
       "        -0.78434094],\n",
       "       [ 0.2807995 , -0.40564224, -1.06443575, -0.8722243 , -0.87602851,\n",
       "        -0.10749723],\n",
       "       [-1.01374645, -0.90670059,  0.87667445,  0.88736948,  0.63556328,\n",
       "        -0.10749723],\n",
       "       [-0.79798879,  0.26243555,  0.42872594,  0.1542054 , -0.57371015,\n",
       "        -1.29197372]])"
      ]
     },
     "execution_count": 19,
     "metadata": {},
     "output_type": "execute_result"
    }
   ],
   "source": [
    "X[1]"
   ]
  },
  {
   "cell_type": "markdown",
   "metadata": {},
   "source": [
    "Let's check out our second scaled label"
   ]
  },
  {
   "cell_type": "code",
   "execution_count": 20,
   "metadata": {},
   "outputs": [
    {
     "data": {
      "text/plain": [
       "array([-0.58223113, -0.40564224,  1.32462296,  1.32726792,  0.78672246,\n",
       "        0.23092462])"
      ]
     },
     "execution_count": 20,
     "metadata": {},
     "output_type": "execute_result"
    }
   ],
   "source": [
    "y[1]"
   ]
  },
  {
   "cell_type": "markdown",
   "metadata": {},
   "source": [
    "## Modeling\n",
    "\n",
    "First, let's initialise the RNN (recurrent Neural Network)"
   ]
  },
  {
   "cell_type": "code",
   "execution_count": 21,
   "metadata": {},
   "outputs": [],
   "source": [
    "model = Sequential()"
   ]
  },
  {
   "cell_type": "markdown",
   "metadata": {},
   "source": [
    "Let's add the input layer and the LSTM layer"
   ]
  },
  {
   "cell_type": "code",
   "execution_count": 22,
   "metadata": {},
   "outputs": [],
   "source": [
    "model.add(Bidirectional(LSTM(240, input_shape = (window_length, number_of_features), return_sequences = True)))"
   ]
  },
  {
   "cell_type": "markdown",
   "metadata": {},
   "source": [
    "Let's add a first Dropout layer in order to reduce overfitting"
   ]
  },
  {
   "cell_type": "code",
   "execution_count": 23,
   "metadata": {},
   "outputs": [],
   "source": [
    "model.add(Dropout(0.2))"
   ]
  },
  {
   "cell_type": "markdown",
   "metadata": {},
   "source": [
    "Let's add a second LSTM layer"
   ]
  },
  {
   "cell_type": "code",
   "execution_count": 24,
   "metadata": {},
   "outputs": [],
   "source": [
    "model.add(Bidirectional(LSTM(240, input_shape = (window_length, number_of_features), return_sequences= True)))"
   ]
  },
  {
   "cell_type": "markdown",
   "metadata": {},
   "source": [
    "Let's add a second Dropout layer"
   ]
  },
  {
   "cell_type": "code",
   "execution_count": 25,
   "metadata": {},
   "outputs": [],
   "source": [
    "model.add(Dropout(0.2))"
   ]
  },
  {
   "cell_type": "markdown",
   "metadata": {},
   "source": [
    "Then, let’s add a third LSTM layer"
   ]
  },
  {
   "cell_type": "code",
   "execution_count": 26,
   "metadata": {},
   "outputs": [],
   "source": [
    "model.add(Bidirectional(LSTM(240, input_shape = (window_length, number_of_features), return_sequences = True)))"
   ]
  },
  {
   "cell_type": "markdown",
   "metadata": {},
   "source": [
    "Now, let’s add a fourth LSTM layer"
   ]
  },
  {
   "cell_type": "code",
   "execution_count": 27,
   "metadata": {},
   "outputs": [],
   "source": [
    "model.add(Bidirectional(LSTM(240, input_shape = (window_length, number_of_features), return_sequences = False)))"
   ]
  },
  {
   "cell_type": "markdown",
   "metadata": {},
   "source": [
    "Next, let’s add a dense layer"
   ]
  },
  {
   "cell_type": "code",
   "execution_count": 28,
   "metadata": {},
   "outputs": [],
   "source": [
    "model.add(Dense(59))"
   ]
  },
  {
   "cell_type": "markdown",
   "metadata": {},
   "source": [
    "Finally, let’s add the last output layer"
   ]
  },
  {
   "cell_type": "code",
   "execution_count": 29,
   "metadata": {},
   "outputs": [],
   "source": [
    "model.add(Dense(number_of_features))"
   ]
  },
  {
   "cell_type": "markdown",
   "metadata": {},
   "source": [
    "Now, let's compile the RNN"
   ]
  },
  {
   "cell_type": "code",
   "execution_count": 30,
   "metadata": {},
   "outputs": [],
   "source": [
    "from tensorflow import keras\n",
    "from tensorflow.keras.optimizers import Adam\n",
    "\n",
    "model.compile(optimizer=Adam(learning_rate=0.0001), loss='mse', metrics=['accuracy'] )"
   ]
  },
  {
   "cell_type": "markdown",
   "metadata": {},
   "source": [
    "Next, let’s train our LSTM model"
   ]
  },
  {
   "cell_type": "code",
   "execution_count": 31,
   "metadata": {},
   "outputs": [
    {
     "name": "stdout",
     "output_type": "stream",
     "text": [
      "Epoch 1/300\n",
      "41/41 - 39s - loss: 0.9241 - accuracy: 0.2515 - 39s/epoch - 948ms/step\n",
      "Epoch 2/300\n",
      "41/41 - 15s - loss: 0.8969 - accuracy: 0.2782 - 15s/epoch - 370ms/step\n",
      "Epoch 3/300\n",
      "41/41 - 16s - loss: 0.8922 - accuracy: 0.2686 - 16s/epoch - 386ms/step\n",
      "Epoch 4/300\n",
      "41/41 - 15s - loss: 0.8933 - accuracy: 0.2775 - 15s/epoch - 367ms/step\n",
      "Epoch 5/300\n",
      "41/41 - 15s - loss: 0.8911 - accuracy: 0.2817 - 15s/epoch - 364ms/step\n",
      "Epoch 6/300\n",
      "41/41 - 15s - loss: 0.8917 - accuracy: 0.2780 - 15s/epoch - 369ms/step\n",
      "Epoch 7/300\n",
      "41/41 - 15s - loss: 0.8895 - accuracy: 0.2775 - 15s/epoch - 357ms/step\n",
      "Epoch 8/300\n",
      "41/41 - 15s - loss: 0.8901 - accuracy: 0.2775 - 15s/epoch - 367ms/step\n",
      "Epoch 9/300\n",
      "41/41 - 15s - loss: 0.8897 - accuracy: 0.2760 - 15s/epoch - 371ms/step\n",
      "Epoch 10/300\n",
      "41/41 - 16s - loss: 0.8904 - accuracy: 0.2743 - 16s/epoch - 382ms/step\n",
      "Epoch 11/300\n",
      "41/41 - 15s - loss: 0.8896 - accuracy: 0.2745 - 15s/epoch - 362ms/step\n",
      "Epoch 12/300\n",
      "41/41 - 15s - loss: 0.8879 - accuracy: 0.2770 - 15s/epoch - 368ms/step\n",
      "Epoch 13/300\n",
      "41/41 - 15s - loss: 0.8867 - accuracy: 0.2787 - 15s/epoch - 356ms/step\n",
      "Epoch 14/300\n",
      "41/41 - 15s - loss: 0.8882 - accuracy: 0.2715 - 15s/epoch - 362ms/step\n",
      "Epoch 15/300\n",
      "41/41 - 15s - loss: 0.8857 - accuracy: 0.2750 - 15s/epoch - 363ms/step\n",
      "Epoch 16/300\n",
      "41/41 - 15s - loss: 0.8875 - accuracy: 0.2792 - 15s/epoch - 366ms/step\n",
      "Epoch 17/300\n",
      "41/41 - 15s - loss: 0.8841 - accuracy: 0.2757 - 15s/epoch - 357ms/step\n",
      "Epoch 18/300\n",
      "41/41 - 15s - loss: 0.8840 - accuracy: 0.2770 - 15s/epoch - 359ms/step\n",
      "Epoch 19/300\n",
      "41/41 - 15s - loss: 0.8837 - accuracy: 0.2760 - 15s/epoch - 361ms/step\n",
      "Epoch 20/300\n",
      "41/41 - 15s - loss: 0.8827 - accuracy: 0.2752 - 15s/epoch - 363ms/step\n",
      "Epoch 21/300\n",
      "41/41 - 15s - loss: 0.8820 - accuracy: 0.2765 - 15s/epoch - 367ms/step\n",
      "Epoch 22/300\n",
      "41/41 - 15s - loss: 0.8804 - accuracy: 0.2804 - 15s/epoch - 361ms/step\n",
      "Epoch 23/300\n",
      "41/41 - 16s - loss: 0.8833 - accuracy: 0.2797 - 16s/epoch - 385ms/step\n",
      "Epoch 24/300\n",
      "41/41 - 15s - loss: 0.8841 - accuracy: 0.2770 - 15s/epoch - 360ms/step\n",
      "Epoch 25/300\n",
      "41/41 - 15s - loss: 0.8796 - accuracy: 0.2809 - 15s/epoch - 362ms/step\n",
      "Epoch 26/300\n",
      "41/41 - 15s - loss: 0.8803 - accuracy: 0.2767 - 15s/epoch - 360ms/step\n",
      "Epoch 27/300\n",
      "41/41 - 15s - loss: 0.8792 - accuracy: 0.2775 - 15s/epoch - 368ms/step\n",
      "Epoch 28/300\n",
      "41/41 - 16s - loss: 0.8801 - accuracy: 0.2775 - 16s/epoch - 395ms/step\n",
      "Epoch 29/300\n",
      "41/41 - 16s - loss: 0.8775 - accuracy: 0.2792 - 16s/epoch - 391ms/step\n",
      "Epoch 30/300\n",
      "41/41 - 16s - loss: 0.8772 - accuracy: 0.2775 - 16s/epoch - 380ms/step\n",
      "Epoch 31/300\n",
      "41/41 - 15s - loss: 0.8773 - accuracy: 0.2765 - 15s/epoch - 374ms/step\n",
      "Epoch 32/300\n",
      "41/41 - 15s - loss: 0.8753 - accuracy: 0.2757 - 15s/epoch - 377ms/step\n",
      "Epoch 33/300\n",
      "41/41 - 15s - loss: 0.8767 - accuracy: 0.2866 - 15s/epoch - 366ms/step\n",
      "Epoch 34/300\n",
      "41/41 - 15s - loss: 0.8753 - accuracy: 0.2814 - 15s/epoch - 369ms/step\n",
      "Epoch 35/300\n",
      "41/41 - 16s - loss: 0.8751 - accuracy: 0.2757 - 16s/epoch - 392ms/step\n",
      "Epoch 36/300\n",
      "41/41 - 17s - loss: 0.8749 - accuracy: 0.2842 - 17s/epoch - 416ms/step\n",
      "Epoch 37/300\n",
      "41/41 - 15s - loss: 0.8736 - accuracy: 0.2802 - 15s/epoch - 364ms/step\n",
      "Epoch 38/300\n",
      "41/41 - 15s - loss: 0.8752 - accuracy: 0.2760 - 15s/epoch - 354ms/step\n",
      "Epoch 39/300\n",
      "41/41 - 15s - loss: 0.8718 - accuracy: 0.2770 - 15s/epoch - 357ms/step\n",
      "Epoch 40/300\n",
      "41/41 - 14s - loss: 0.8716 - accuracy: 0.2777 - 14s/epoch - 350ms/step\n",
      "Epoch 41/300\n",
      "41/41 - 14s - loss: 0.8705 - accuracy: 0.2752 - 14s/epoch - 353ms/step\n",
      "Epoch 42/300\n",
      "41/41 - 14s - loss: 0.8697 - accuracy: 0.2780 - 14s/epoch - 352ms/step\n",
      "Epoch 43/300\n",
      "41/41 - 14s - loss: 0.8718 - accuracy: 0.2804 - 14s/epoch - 351ms/step\n",
      "Epoch 44/300\n",
      "41/41 - 15s - loss: 0.8727 - accuracy: 0.2765 - 15s/epoch - 358ms/step\n",
      "Epoch 45/300\n",
      "41/41 - 16s - loss: 0.8693 - accuracy: 0.2812 - 16s/epoch - 386ms/step\n",
      "Epoch 46/300\n",
      "41/41 - 14s - loss: 0.8681 - accuracy: 0.2780 - 14s/epoch - 349ms/step\n",
      "Epoch 47/300\n",
      "41/41 - 17s - loss: 0.8669 - accuracy: 0.2800 - 17s/epoch - 416ms/step\n",
      "Epoch 48/300\n",
      "41/41 - 15s - loss: 0.8672 - accuracy: 0.2864 - 15s/epoch - 367ms/step\n",
      "Epoch 49/300\n",
      "41/41 - 15s - loss: 0.8660 - accuracy: 0.2782 - 15s/epoch - 376ms/step\n",
      "Epoch 50/300\n",
      "41/41 - 14s - loss: 0.8636 - accuracy: 0.2792 - 14s/epoch - 352ms/step\n",
      "Epoch 51/300\n",
      "41/41 - 25s - loss: 0.8628 - accuracy: 0.2785 - 25s/epoch - 599ms/step\n",
      "Epoch 52/300\n",
      "41/41 - 16s - loss: 0.8651 - accuracy: 0.2760 - 16s/epoch - 394ms/step\n",
      "Epoch 53/300\n",
      "41/41 - 15s - loss: 0.8647 - accuracy: 0.2760 - 15s/epoch - 374ms/step\n",
      "Epoch 54/300\n",
      "41/41 - 25s - loss: 0.8623 - accuracy: 0.2775 - 25s/epoch - 617ms/step\n",
      "Epoch 55/300\n",
      "41/41 - 19s - loss: 0.8606 - accuracy: 0.2775 - 19s/epoch - 463ms/step\n",
      "Epoch 56/300\n",
      "41/41 - 18s - loss: 0.8591 - accuracy: 0.2812 - 18s/epoch - 446ms/step\n",
      "Epoch 57/300\n",
      "41/41 - 18s - loss: 0.8608 - accuracy: 0.2851 - 18s/epoch - 439ms/step\n",
      "Epoch 58/300\n",
      "41/41 - 18s - loss: 0.8618 - accuracy: 0.2819 - 18s/epoch - 428ms/step\n",
      "Epoch 59/300\n",
      "41/41 - 19s - loss: 0.8609 - accuracy: 0.2839 - 19s/epoch - 472ms/step\n",
      "Epoch 60/300\n",
      "41/41 - 17s - loss: 0.8596 - accuracy: 0.2861 - 17s/epoch - 408ms/step\n",
      "Epoch 61/300\n",
      "41/41 - 16s - loss: 0.8595 - accuracy: 0.2864 - 16s/epoch - 379ms/step\n",
      "Epoch 62/300\n",
      "41/41 - 15s - loss: 0.8592 - accuracy: 0.2775 - 15s/epoch - 360ms/step\n",
      "Epoch 63/300\n",
      "41/41 - 15s - loss: 0.8563 - accuracy: 0.2800 - 15s/epoch - 358ms/step\n",
      "Epoch 64/300\n",
      "41/41 - 15s - loss: 0.8566 - accuracy: 0.2854 - 15s/epoch - 366ms/step\n",
      "Epoch 65/300\n",
      "41/41 - 23s - loss: 0.8546 - accuracy: 0.2795 - 23s/epoch - 572ms/step\n",
      "Epoch 66/300\n",
      "41/41 - 21s - loss: 0.8505 - accuracy: 0.2839 - 21s/epoch - 524ms/step\n",
      "Epoch 67/300\n",
      "41/41 - 15s - loss: 0.8520 - accuracy: 0.2807 - 15s/epoch - 371ms/step\n",
      "Epoch 68/300\n",
      "41/41 - 19s - loss: 0.8518 - accuracy: 0.2874 - 19s/epoch - 467ms/step\n",
      "Epoch 69/300\n",
      "41/41 - 18s - loss: 0.8500 - accuracy: 0.2866 - 18s/epoch - 448ms/step\n",
      "Epoch 70/300\n",
      "41/41 - 18s - loss: 0.8482 - accuracy: 0.2911 - 18s/epoch - 451ms/step\n",
      "Epoch 71/300\n",
      "41/41 - 15s - loss: 0.8477 - accuracy: 0.2819 - 15s/epoch - 375ms/step\n",
      "Epoch 72/300\n",
      "41/41 - 21s - loss: 0.8455 - accuracy: 0.2824 - 21s/epoch - 512ms/step\n",
      "Epoch 73/300\n",
      "41/41 - 26s - loss: 0.8488 - accuracy: 0.2847 - 26s/epoch - 631ms/step\n",
      "Epoch 74/300\n",
      "41/41 - 17s - loss: 0.8490 - accuracy: 0.2839 - 17s/epoch - 421ms/step\n",
      "Epoch 75/300\n",
      "41/41 - 18s - loss: 0.8434 - accuracy: 0.2842 - 18s/epoch - 442ms/step\n",
      "Epoch 76/300\n",
      "41/41 - 18s - loss: 0.8410 - accuracy: 0.2819 - 18s/epoch - 428ms/step\n",
      "Epoch 77/300\n",
      "41/41 - 17s - loss: 0.8405 - accuracy: 0.2874 - 17s/epoch - 403ms/step\n",
      "Epoch 78/300\n",
      "41/41 - 15s - loss: 0.8413 - accuracy: 0.2879 - 15s/epoch - 373ms/step\n",
      "Epoch 79/300\n",
      "41/41 - 15s - loss: 0.8391 - accuracy: 0.2812 - 15s/epoch - 355ms/step\n",
      "Epoch 80/300\n",
      "41/41 - 14s - loss: 0.8403 - accuracy: 0.2938 - 14s/epoch - 352ms/step\n",
      "Epoch 81/300\n",
      "41/41 - 15s - loss: 0.8338 - accuracy: 0.2903 - 15s/epoch - 365ms/step\n",
      "Epoch 82/300\n",
      "41/41 - 15s - loss: 0.8349 - accuracy: 0.2851 - 15s/epoch - 357ms/step\n",
      "Epoch 83/300\n",
      "41/41 - 15s - loss: 0.8358 - accuracy: 0.2921 - 15s/epoch - 362ms/step\n",
      "Epoch 84/300\n",
      "41/41 - 15s - loss: 0.8310 - accuracy: 0.2886 - 15s/epoch - 354ms/step\n",
      "Epoch 85/300\n",
      "41/41 - 15s - loss: 0.8305 - accuracy: 0.2911 - 15s/epoch - 361ms/step\n",
      "Epoch 86/300\n",
      "41/41 - 15s - loss: 0.8303 - accuracy: 0.2891 - 15s/epoch - 356ms/step\n",
      "Epoch 87/300\n",
      "41/41 - 14s - loss: 0.8271 - accuracy: 0.2861 - 14s/epoch - 353ms/step\n",
      "Epoch 88/300\n",
      "41/41 - 15s - loss: 0.8267 - accuracy: 0.2861 - 15s/epoch - 355ms/step\n",
      "Epoch 89/300\n",
      "41/41 - 14s - loss: 0.8241 - accuracy: 0.2876 - 14s/epoch - 352ms/step\n",
      "Epoch 90/300\n",
      "41/41 - 15s - loss: 0.8250 - accuracy: 0.2829 - 15s/epoch - 359ms/step\n",
      "Epoch 91/300\n",
      "41/41 - 15s - loss: 0.8199 - accuracy: 0.2849 - 15s/epoch - 361ms/step\n",
      "Epoch 92/300\n",
      "41/41 - 14s - loss: 0.8142 - accuracy: 0.2807 - 14s/epoch - 350ms/step\n",
      "Epoch 93/300\n",
      "41/41 - 15s - loss: 0.8126 - accuracy: 0.2854 - 15s/epoch - 354ms/step\n",
      "Epoch 94/300\n",
      "41/41 - 15s - loss: 0.8109 - accuracy: 0.2911 - 15s/epoch - 361ms/step\n",
      "Epoch 95/300\n",
      "41/41 - 15s - loss: 0.8118 - accuracy: 0.2876 - 15s/epoch - 355ms/step\n",
      "Epoch 96/300\n",
      "41/41 - 14s - loss: 0.8098 - accuracy: 0.2869 - 14s/epoch - 349ms/step\n",
      "Epoch 97/300\n",
      "41/41 - 15s - loss: 0.8062 - accuracy: 0.2916 - 15s/epoch - 354ms/step\n",
      "Epoch 98/300\n",
      "41/41 - 14s - loss: 0.8032 - accuracy: 0.2871 - 14s/epoch - 354ms/step\n",
      "Epoch 99/300\n",
      "41/41 - 14s - loss: 0.8004 - accuracy: 0.2950 - 14s/epoch - 352ms/step\n",
      "Epoch 100/300\n",
      "41/41 - 14s - loss: 0.8011 - accuracy: 0.2906 - 14s/epoch - 349ms/step\n",
      "Epoch 101/300\n",
      "41/41 - 14s - loss: 0.7998 - accuracy: 0.2921 - 14s/epoch - 348ms/step\n",
      "Epoch 102/300\n",
      "41/41 - 15s - loss: 0.7926 - accuracy: 0.2881 - 15s/epoch - 354ms/step\n",
      "Epoch 103/300\n",
      "41/41 - 14s - loss: 0.7905 - accuracy: 0.2933 - 14s/epoch - 353ms/step\n",
      "Epoch 104/300\n",
      "41/41 - 15s - loss: 0.7877 - accuracy: 0.2938 - 15s/epoch - 368ms/step\n",
      "Epoch 105/300\n",
      "41/41 - 14s - loss: 0.7855 - accuracy: 0.2980 - 14s/epoch - 347ms/step\n",
      "Epoch 106/300\n",
      "41/41 - 15s - loss: 0.7903 - accuracy: 0.2918 - 15s/epoch - 356ms/step\n",
      "Epoch 107/300\n",
      "41/41 - 14s - loss: 0.7820 - accuracy: 0.2928 - 14s/epoch - 346ms/step\n",
      "Epoch 108/300\n",
      "41/41 - 14s - loss: 0.7811 - accuracy: 0.2889 - 14s/epoch - 346ms/step\n",
      "Epoch 109/300\n",
      "41/41 - 14s - loss: 0.7721 - accuracy: 0.2988 - 14s/epoch - 347ms/step\n",
      "Epoch 110/300\n",
      "41/41 - 14s - loss: 0.7706 - accuracy: 0.2995 - 14s/epoch - 352ms/step\n",
      "Epoch 111/300\n",
      "41/41 - 14s - loss: 0.7691 - accuracy: 0.2941 - 14s/epoch - 344ms/step\n",
      "Epoch 112/300\n",
      "41/41 - 15s - loss: 0.7658 - accuracy: 0.2975 - 15s/epoch - 355ms/step\n",
      "Epoch 113/300\n",
      "41/41 - 14s - loss: 0.7642 - accuracy: 0.2968 - 14s/epoch - 347ms/step\n",
      "Epoch 114/300\n",
      "41/41 - 14s - loss: 0.7555 - accuracy: 0.2978 - 14s/epoch - 349ms/step\n",
      "Epoch 115/300\n",
      "41/41 - 14s - loss: 0.7569 - accuracy: 0.3002 - 14s/epoch - 351ms/step\n",
      "Epoch 116/300\n",
      "41/41 - 14s - loss: 0.7509 - accuracy: 0.2970 - 14s/epoch - 345ms/step\n",
      "Epoch 117/300\n",
      "41/41 - 15s - loss: 0.7485 - accuracy: 0.3015 - 15s/epoch - 361ms/step\n",
      "Epoch 118/300\n",
      "41/41 - 15s - loss: 0.7459 - accuracy: 0.3054 - 15s/epoch - 372ms/step\n",
      "Epoch 119/300\n",
      "41/41 - 16s - loss: 0.7421 - accuracy: 0.3045 - 16s/epoch - 380ms/step\n",
      "Epoch 120/300\n",
      "41/41 - 13s - loss: 0.7368 - accuracy: 0.3092 - 13s/epoch - 322ms/step\n",
      "Epoch 121/300\n",
      "41/41 - 13s - loss: 0.7251 - accuracy: 0.3064 - 13s/epoch - 320ms/step\n",
      "Epoch 122/300\n",
      "41/41 - 13s - loss: 0.7206 - accuracy: 0.3097 - 13s/epoch - 319ms/step\n",
      "Epoch 123/300\n",
      "41/41 - 13s - loss: 0.7223 - accuracy: 0.3067 - 13s/epoch - 322ms/step\n",
      "Epoch 124/300\n",
      "41/41 - 13s - loss: 0.7120 - accuracy: 0.3111 - 13s/epoch - 317ms/step\n",
      "Epoch 125/300\n",
      "41/41 - 13s - loss: 0.7157 - accuracy: 0.3176 - 13s/epoch - 324ms/step\n",
      "Epoch 126/300\n",
      "41/41 - 13s - loss: 0.7063 - accuracy: 0.3168 - 13s/epoch - 318ms/step\n",
      "Epoch 127/300\n",
      "41/41 - 13s - loss: 0.7026 - accuracy: 0.3208 - 13s/epoch - 323ms/step\n",
      "Epoch 128/300\n",
      "41/41 - 13s - loss: 0.6998 - accuracy: 0.3173 - 13s/epoch - 322ms/step\n",
      "Epoch 129/300\n",
      "41/41 - 13s - loss: 0.6950 - accuracy: 0.3230 - 13s/epoch - 323ms/step\n",
      "Epoch 130/300\n",
      "41/41 - 13s - loss: 0.6896 - accuracy: 0.3205 - 13s/epoch - 323ms/step\n",
      "Epoch 131/300\n",
      "41/41 - 13s - loss: 0.6843 - accuracy: 0.3300 - 13s/epoch - 329ms/step\n",
      "Epoch 132/300\n",
      "41/41 - 13s - loss: 0.6789 - accuracy: 0.3260 - 13s/epoch - 328ms/step\n",
      "Epoch 133/300\n",
      "41/41 - 13s - loss: 0.6737 - accuracy: 0.3389 - 13s/epoch - 320ms/step\n",
      "Epoch 134/300\n",
      "41/41 - 13s - loss: 0.6632 - accuracy: 0.3371 - 13s/epoch - 321ms/step\n",
      "Epoch 135/300\n",
      "41/41 - 13s - loss: 0.6602 - accuracy: 0.3312 - 13s/epoch - 321ms/step\n",
      "Epoch 136/300\n",
      "41/41 - 13s - loss: 0.6541 - accuracy: 0.3364 - 13s/epoch - 320ms/step\n",
      "Epoch 137/300\n",
      "41/41 - 13s - loss: 0.6527 - accuracy: 0.3426 - 13s/epoch - 323ms/step\n",
      "Epoch 138/300\n",
      "41/41 - 13s - loss: 0.6487 - accuracy: 0.3515 - 13s/epoch - 318ms/step\n",
      "Epoch 139/300\n",
      "41/41 - 13s - loss: 0.6413 - accuracy: 0.3502 - 13s/epoch - 319ms/step\n",
      "Epoch 140/300\n",
      "41/41 - 13s - loss: 0.6403 - accuracy: 0.3470 - 13s/epoch - 320ms/step\n",
      "Epoch 141/300\n",
      "41/41 - 13s - loss: 0.6286 - accuracy: 0.3624 - 13s/epoch - 320ms/step\n",
      "Epoch 142/300\n",
      "41/41 - 13s - loss: 0.6248 - accuracy: 0.3594 - 13s/epoch - 324ms/step\n",
      "Epoch 143/300\n",
      "41/41 - 13s - loss: 0.6221 - accuracy: 0.3606 - 13s/epoch - 320ms/step\n",
      "Epoch 144/300\n",
      "41/41 - 13s - loss: 0.6132 - accuracy: 0.3579 - 13s/epoch - 320ms/step\n",
      "Epoch 145/300\n",
      "41/41 - 14s - loss: 0.6058 - accuracy: 0.3666 - 14s/epoch - 338ms/step\n",
      "Epoch 146/300\n",
      "41/41 - 13s - loss: 0.6009 - accuracy: 0.3683 - 13s/epoch - 325ms/step\n",
      "Epoch 147/300\n",
      "41/41 - 13s - loss: 0.5991 - accuracy: 0.3750 - 13s/epoch - 322ms/step\n",
      "Epoch 148/300\n",
      "41/41 - 13s - loss: 0.5947 - accuracy: 0.3728 - 13s/epoch - 324ms/step\n",
      "Epoch 149/300\n",
      "41/41 - 13s - loss: 0.5849 - accuracy: 0.3748 - 13s/epoch - 320ms/step\n",
      "Epoch 150/300\n",
      "41/41 - 13s - loss: 0.5787 - accuracy: 0.3755 - 13s/epoch - 322ms/step\n",
      "Epoch 151/300\n",
      "41/41 - 13s - loss: 0.5748 - accuracy: 0.3859 - 13s/epoch - 320ms/step\n",
      "Epoch 152/300\n",
      "41/41 - 13s - loss: 0.5693 - accuracy: 0.3871 - 13s/epoch - 326ms/step\n",
      "Epoch 153/300\n",
      "41/41 - 13s - loss: 0.5625 - accuracy: 0.3854 - 13s/epoch - 318ms/step\n",
      "Epoch 154/300\n",
      "41/41 - 13s - loss: 0.5571 - accuracy: 0.4010 - 13s/epoch - 323ms/step\n",
      "Epoch 155/300\n",
      "41/41 - 13s - loss: 0.5522 - accuracy: 0.3970 - 13s/epoch - 319ms/step\n",
      "Epoch 156/300\n",
      "41/41 - 13s - loss: 0.5486 - accuracy: 0.4022 - 13s/epoch - 320ms/step\n",
      "Epoch 157/300\n",
      "41/41 - 13s - loss: 0.5423 - accuracy: 0.3993 - 13s/epoch - 322ms/step\n",
      "Epoch 158/300\n",
      "41/41 - 13s - loss: 0.5385 - accuracy: 0.4082 - 13s/epoch - 324ms/step\n",
      "Epoch 159/300\n",
      "41/41 - 14s - loss: 0.5315 - accuracy: 0.4119 - 14s/epoch - 332ms/step\n",
      "Epoch 160/300\n",
      "41/41 - 14s - loss: 0.5266 - accuracy: 0.4129 - 14s/epoch - 339ms/step\n",
      "Epoch 161/300\n",
      "41/41 - 13s - loss: 0.5216 - accuracy: 0.4129 - 13s/epoch - 326ms/step\n",
      "Epoch 162/300\n",
      "41/41 - 13s - loss: 0.5142 - accuracy: 0.4223 - 13s/epoch - 319ms/step\n",
      "Epoch 163/300\n",
      "41/41 - 13s - loss: 0.5077 - accuracy: 0.4092 - 13s/epoch - 328ms/step\n",
      "Epoch 164/300\n",
      "41/41 - 13s - loss: 0.5057 - accuracy: 0.4245 - 13s/epoch - 321ms/step\n",
      "Epoch 165/300\n",
      "41/41 - 13s - loss: 0.5037 - accuracy: 0.4223 - 13s/epoch - 326ms/step\n",
      "Epoch 166/300\n",
      "41/41 - 13s - loss: 0.4952 - accuracy: 0.4277 - 13s/epoch - 322ms/step\n",
      "Epoch 167/300\n",
      "41/41 - 13s - loss: 0.4911 - accuracy: 0.4349 - 13s/epoch - 320ms/step\n",
      "Epoch 168/300\n",
      "41/41 - 13s - loss: 0.4835 - accuracy: 0.4431 - 13s/epoch - 323ms/step\n",
      "Epoch 169/300\n",
      "41/41 - 13s - loss: 0.4798 - accuracy: 0.4344 - 13s/epoch - 321ms/step\n",
      "Epoch 170/300\n",
      "41/41 - 13s - loss: 0.4748 - accuracy: 0.4473 - 13s/epoch - 327ms/step\n",
      "Epoch 171/300\n",
      "41/41 - 13s - loss: 0.4704 - accuracy: 0.4443 - 13s/epoch - 319ms/step\n",
      "Epoch 172/300\n",
      "41/41 - 13s - loss: 0.4598 - accuracy: 0.4557 - 13s/epoch - 324ms/step\n",
      "Epoch 173/300\n",
      "41/41 - 13s - loss: 0.4566 - accuracy: 0.4495 - 13s/epoch - 326ms/step\n",
      "Epoch 174/300\n",
      "41/41 - 13s - loss: 0.4506 - accuracy: 0.4594 - 13s/epoch - 326ms/step\n",
      "Epoch 175/300\n",
      "41/41 - 13s - loss: 0.4494 - accuracy: 0.4557 - 13s/epoch - 326ms/step\n",
      "Epoch 176/300\n",
      "41/41 - 13s - loss: 0.4458 - accuracy: 0.4606 - 13s/epoch - 321ms/step\n",
      "Epoch 177/300\n",
      "41/41 - 13s - loss: 0.4377 - accuracy: 0.4703 - 13s/epoch - 321ms/step\n",
      "Epoch 178/300\n",
      "41/41 - 13s - loss: 0.4310 - accuracy: 0.4730 - 13s/epoch - 321ms/step\n",
      "Epoch 179/300\n",
      "41/41 - 13s - loss: 0.4275 - accuracy: 0.4735 - 13s/epoch - 324ms/step\n",
      "Epoch 180/300\n",
      "41/41 - 13s - loss: 0.4175 - accuracy: 0.4792 - 13s/epoch - 320ms/step\n",
      "Epoch 181/300\n",
      "41/41 - 13s - loss: 0.4144 - accuracy: 0.4834 - 13s/epoch - 319ms/step\n",
      "Epoch 182/300\n",
      "41/41 - 13s - loss: 0.4111 - accuracy: 0.4725 - 13s/epoch - 327ms/step\n",
      "Epoch 183/300\n",
      "41/41 - 13s - loss: 0.4028 - accuracy: 0.4839 - 13s/epoch - 324ms/step\n",
      "Epoch 184/300\n",
      "41/41 - 14s - loss: 0.4021 - accuracy: 0.4896 - 14s/epoch - 346ms/step\n",
      "Epoch 185/300\n",
      "41/41 - 15s - loss: 0.3917 - accuracy: 0.4975 - 15s/epoch - 354ms/step\n",
      "Epoch 186/300\n",
      "41/41 - 14s - loss: 0.3915 - accuracy: 0.4998 - 14s/epoch - 352ms/step\n",
      "Epoch 187/300\n",
      "41/41 - 15s - loss: 0.3857 - accuracy: 0.5062 - 15s/epoch - 370ms/step\n",
      "Epoch 188/300\n",
      "41/41 - 15s - loss: 0.3792 - accuracy: 0.5097 - 15s/epoch - 368ms/step\n",
      "Epoch 189/300\n",
      "41/41 - 15s - loss: 0.3730 - accuracy: 0.5005 - 15s/epoch - 359ms/step\n",
      "Epoch 190/300\n",
      "41/41 - 15s - loss: 0.3670 - accuracy: 0.5116 - 15s/epoch - 362ms/step\n",
      "Epoch 191/300\n",
      "41/41 - 15s - loss: 0.3594 - accuracy: 0.5156 - 15s/epoch - 361ms/step\n",
      "Epoch 192/300\n",
      "41/41 - 15s - loss: 0.3554 - accuracy: 0.5119 - 15s/epoch - 360ms/step\n",
      "Epoch 193/300\n",
      "41/41 - 15s - loss: 0.3493 - accuracy: 0.5161 - 15s/epoch - 364ms/step\n",
      "Epoch 194/300\n",
      "41/41 - 14s - loss: 0.3444 - accuracy: 0.5317 - 14s/epoch - 348ms/step\n",
      "Epoch 195/300\n",
      "41/41 - 14s - loss: 0.3343 - accuracy: 0.5347 - 14s/epoch - 347ms/step\n",
      "Epoch 196/300\n",
      "41/41 - 14s - loss: 0.3306 - accuracy: 0.5265 - 14s/epoch - 343ms/step\n",
      "Epoch 197/300\n",
      "41/41 - 14s - loss: 0.3259 - accuracy: 0.5428 - 14s/epoch - 345ms/step\n",
      "Epoch 198/300\n",
      "41/41 - 14s - loss: 0.3208 - accuracy: 0.5396 - 14s/epoch - 348ms/step\n",
      "Epoch 199/300\n",
      "41/41 - 14s - loss: 0.3129 - accuracy: 0.5495 - 14s/epoch - 343ms/step\n",
      "Epoch 200/300\n",
      "41/41 - 15s - loss: 0.3062 - accuracy: 0.5463 - 15s/epoch - 354ms/step\n",
      "Epoch 201/300\n",
      "41/41 - 14s - loss: 0.3025 - accuracy: 0.5490 - 14s/epoch - 344ms/step\n",
      "Epoch 202/300\n",
      "41/41 - 14s - loss: 0.2936 - accuracy: 0.5574 - 14s/epoch - 348ms/step\n",
      "Epoch 203/300\n",
      "41/41 - 14s - loss: 0.2879 - accuracy: 0.5500 - 14s/epoch - 345ms/step\n",
      "Epoch 204/300\n",
      "41/41 - 14s - loss: 0.2829 - accuracy: 0.5639 - 14s/epoch - 344ms/step\n",
      "Epoch 205/300\n",
      "41/41 - 14s - loss: 0.2733 - accuracy: 0.5760 - 14s/epoch - 347ms/step\n",
      "Epoch 206/300\n",
      "41/41 - 14s - loss: 0.2716 - accuracy: 0.5743 - 14s/epoch - 343ms/step\n",
      "Epoch 207/300\n",
      "41/41 - 14s - loss: 0.2632 - accuracy: 0.5782 - 14s/epoch - 345ms/step\n",
      "Epoch 208/300\n",
      "41/41 - 14s - loss: 0.2626 - accuracy: 0.5851 - 14s/epoch - 350ms/step\n",
      "Epoch 209/300\n",
      "41/41 - 14s - loss: 0.2526 - accuracy: 0.5911 - 14s/epoch - 347ms/step\n",
      "Epoch 210/300\n",
      "41/41 - 15s - loss: 0.2447 - accuracy: 0.5958 - 15s/epoch - 354ms/step\n",
      "Epoch 211/300\n",
      "41/41 - 14s - loss: 0.2393 - accuracy: 0.5960 - 14s/epoch - 350ms/step\n",
      "Epoch 212/300\n",
      "41/41 - 14s - loss: 0.2363 - accuracy: 0.6005 - 14s/epoch - 345ms/step\n",
      "Epoch 213/300\n",
      "41/41 - 14s - loss: 0.2303 - accuracy: 0.6042 - 14s/epoch - 347ms/step\n",
      "Epoch 214/300\n",
      "41/41 - 14s - loss: 0.2225 - accuracy: 0.6059 - 14s/epoch - 344ms/step\n",
      "Epoch 215/300\n",
      "41/41 - 14s - loss: 0.2190 - accuracy: 0.6156 - 14s/epoch - 346ms/step\n",
      "Epoch 216/300\n",
      "41/41 - 14s - loss: 0.2107 - accuracy: 0.6198 - 14s/epoch - 344ms/step\n",
      "Epoch 217/300\n",
      "41/41 - 14s - loss: 0.2057 - accuracy: 0.6171 - 14s/epoch - 345ms/step\n",
      "Epoch 218/300\n",
      "41/41 - 14s - loss: 0.2029 - accuracy: 0.6317 - 14s/epoch - 344ms/step\n",
      "Epoch 219/300\n",
      "41/41 - 14s - loss: 0.1953 - accuracy: 0.6272 - 14s/epoch - 350ms/step\n",
      "Epoch 220/300\n",
      "41/41 - 14s - loss: 0.1895 - accuracy: 0.6342 - 14s/epoch - 347ms/step\n",
      "Epoch 221/300\n",
      "41/41 - 14s - loss: 0.1835 - accuracy: 0.6322 - 14s/epoch - 353ms/step\n",
      "Epoch 222/300\n",
      "41/41 - 14s - loss: 0.1810 - accuracy: 0.6399 - 14s/epoch - 342ms/step\n",
      "Epoch 223/300\n",
      "41/41 - 14s - loss: 0.1771 - accuracy: 0.6421 - 14s/epoch - 345ms/step\n",
      "Epoch 224/300\n",
      "41/41 - 14s - loss: 0.1714 - accuracy: 0.6510 - 14s/epoch - 345ms/step\n",
      "Epoch 225/300\n",
      "41/41 - 14s - loss: 0.1692 - accuracy: 0.6584 - 14s/epoch - 342ms/step\n",
      "Epoch 226/300\n",
      "41/41 - 17s - loss: 0.1627 - accuracy: 0.6646 - 17s/epoch - 404ms/step\n",
      "Epoch 227/300\n",
      "41/41 - 13s - loss: 0.1583 - accuracy: 0.6631 - 13s/epoch - 316ms/step\n",
      "Epoch 228/300\n",
      "41/41 - 13s - loss: 0.1540 - accuracy: 0.6673 - 13s/epoch - 320ms/step\n",
      "Epoch 229/300\n",
      "41/41 - 13s - loss: 0.1526 - accuracy: 0.6696 - 13s/epoch - 321ms/step\n",
      "Epoch 230/300\n",
      "41/41 - 13s - loss: 0.1462 - accuracy: 0.6777 - 13s/epoch - 320ms/step\n",
      "Epoch 231/300\n",
      "41/41 - 13s - loss: 0.1423 - accuracy: 0.6752 - 13s/epoch - 318ms/step\n",
      "Epoch 232/300\n",
      "41/41 - 13s - loss: 0.1366 - accuracy: 0.6780 - 13s/epoch - 324ms/step\n",
      "Epoch 233/300\n",
      "41/41 - 13s - loss: 0.1323 - accuracy: 0.6829 - 13s/epoch - 318ms/step\n",
      "Epoch 234/300\n",
      "41/41 - 13s - loss: 0.1279 - accuracy: 0.6975 - 13s/epoch - 321ms/step\n",
      "Epoch 235/300\n",
      "41/41 - 13s - loss: 0.1268 - accuracy: 0.7017 - 13s/epoch - 324ms/step\n",
      "Epoch 236/300\n",
      "41/41 - 13s - loss: 0.1226 - accuracy: 0.7099 - 13s/epoch - 318ms/step\n",
      "Epoch 237/300\n",
      "41/41 - 13s - loss: 0.1194 - accuracy: 0.7050 - 13s/epoch - 319ms/step\n",
      "Epoch 238/300\n",
      "41/41 - 13s - loss: 0.1160 - accuracy: 0.7213 - 13s/epoch - 319ms/step\n",
      "Epoch 239/300\n",
      "41/41 - 13s - loss: 0.1106 - accuracy: 0.7161 - 13s/epoch - 318ms/step\n",
      "Epoch 240/300\n",
      "41/41 - 13s - loss: 0.1061 - accuracy: 0.7334 - 13s/epoch - 318ms/step\n",
      "Epoch 241/300\n",
      "41/41 - 13s - loss: 0.1040 - accuracy: 0.7257 - 13s/epoch - 317ms/step\n",
      "Epoch 242/300\n",
      "41/41 - 13s - loss: 0.1015 - accuracy: 0.7277 - 13s/epoch - 319ms/step\n",
      "Epoch 243/300\n",
      "41/41 - 13s - loss: 0.0993 - accuracy: 0.7324 - 13s/epoch - 319ms/step\n",
      "Epoch 244/300\n",
      "41/41 - 13s - loss: 0.0966 - accuracy: 0.7369 - 13s/epoch - 324ms/step\n",
      "Epoch 245/300\n",
      "41/41 - 13s - loss: 0.0907 - accuracy: 0.7507 - 13s/epoch - 319ms/step\n",
      "Epoch 246/300\n",
      "41/41 - 13s - loss: 0.0888 - accuracy: 0.7349 - 13s/epoch - 316ms/step\n",
      "Epoch 247/300\n",
      "41/41 - 13s - loss: 0.0868 - accuracy: 0.7505 - 13s/epoch - 317ms/step\n",
      "Epoch 248/300\n",
      "41/41 - 13s - loss: 0.0857 - accuracy: 0.7505 - 13s/epoch - 320ms/step\n",
      "Epoch 249/300\n",
      "41/41 - 13s - loss: 0.0823 - accuracy: 0.7488 - 13s/epoch - 315ms/step\n",
      "Epoch 250/300\n",
      "41/41 - 13s - loss: 0.0800 - accuracy: 0.7545 - 13s/epoch - 318ms/step\n",
      "Epoch 251/300\n",
      "41/41 - 13s - loss: 0.0775 - accuracy: 0.7656 - 13s/epoch - 316ms/step\n",
      "Epoch 252/300\n",
      "41/41 - 13s - loss: 0.0744 - accuracy: 0.7678 - 13s/epoch - 323ms/step\n",
      "Epoch 253/300\n",
      "41/41 - 13s - loss: 0.0710 - accuracy: 0.7718 - 13s/epoch - 318ms/step\n",
      "Epoch 254/300\n",
      "41/41 - 13s - loss: 0.0719 - accuracy: 0.7775 - 13s/epoch - 315ms/step\n",
      "Epoch 255/300\n",
      "41/41 - 13s - loss: 0.0691 - accuracy: 0.7713 - 13s/epoch - 319ms/step\n",
      "Epoch 256/300\n",
      "41/41 - 13s - loss: 0.0667 - accuracy: 0.7809 - 13s/epoch - 314ms/step\n",
      "Epoch 257/300\n",
      "41/41 - 13s - loss: 0.0648 - accuracy: 0.7802 - 13s/epoch - 316ms/step\n",
      "Epoch 258/300\n",
      "41/41 - 13s - loss: 0.0645 - accuracy: 0.7792 - 13s/epoch - 323ms/step\n",
      "Epoch 259/300\n",
      "41/41 - 13s - loss: 0.0616 - accuracy: 0.7851 - 13s/epoch - 315ms/step\n",
      "Epoch 260/300\n",
      "41/41 - 13s - loss: 0.0585 - accuracy: 0.7889 - 13s/epoch - 320ms/step\n",
      "Epoch 261/300\n",
      "41/41 - 13s - loss: 0.0600 - accuracy: 0.7869 - 13s/epoch - 316ms/step\n",
      "Epoch 262/300\n",
      "41/41 - 13s - loss: 0.0586 - accuracy: 0.7933 - 13s/epoch - 317ms/step\n",
      "Epoch 263/300\n",
      "41/41 - 13s - loss: 0.0563 - accuracy: 0.7970 - 13s/epoch - 317ms/step\n",
      "Epoch 264/300\n",
      "41/41 - 13s - loss: 0.0544 - accuracy: 0.7950 - 13s/epoch - 319ms/step\n",
      "Epoch 265/300\n",
      "41/41 - 13s - loss: 0.0545 - accuracy: 0.7980 - 13s/epoch - 317ms/step\n",
      "Epoch 266/300\n",
      "41/41 - 13s - loss: 0.0534 - accuracy: 0.7978 - 13s/epoch - 318ms/step\n",
      "Epoch 267/300\n",
      "41/41 - 13s - loss: 0.0506 - accuracy: 0.8042 - 13s/epoch - 317ms/step\n",
      "Epoch 268/300\n",
      "41/41 - 13s - loss: 0.0493 - accuracy: 0.8082 - 13s/epoch - 318ms/step\n",
      "Epoch 269/300\n",
      "41/41 - 13s - loss: 0.0488 - accuracy: 0.8111 - 13s/epoch - 317ms/step\n",
      "Epoch 270/300\n",
      "41/41 - 13s - loss: 0.0479 - accuracy: 0.8047 - 13s/epoch - 319ms/step\n",
      "Epoch 271/300\n",
      "41/41 - 13s - loss: 0.0465 - accuracy: 0.8158 - 13s/epoch - 318ms/step\n",
      "Epoch 272/300\n",
      "41/41 - 13s - loss: 0.0461 - accuracy: 0.8183 - 13s/epoch - 318ms/step\n",
      "Epoch 273/300\n",
      "41/41 - 13s - loss: 0.0462 - accuracy: 0.8173 - 13s/epoch - 316ms/step\n",
      "Epoch 274/300\n",
      "41/41 - 13s - loss: 0.0435 - accuracy: 0.8218 - 13s/epoch - 316ms/step\n",
      "Epoch 275/300\n",
      "41/41 - 13s - loss: 0.0444 - accuracy: 0.8153 - 13s/epoch - 321ms/step\n",
      "Epoch 276/300\n",
      "41/41 - 13s - loss: 0.0439 - accuracy: 0.8282 - 13s/epoch - 316ms/step\n",
      "Epoch 277/300\n",
      "41/41 - 13s - loss: 0.0417 - accuracy: 0.8255 - 13s/epoch - 313ms/step\n",
      "Epoch 278/300\n",
      "41/41 - 14s - loss: 0.0403 - accuracy: 0.8334 - 14s/epoch - 352ms/step\n",
      "Epoch 279/300\n",
      "41/41 - 15s - loss: 0.0395 - accuracy: 0.8300 - 15s/epoch - 357ms/step\n",
      "Epoch 280/300\n",
      "41/41 - 15s - loss: 0.0385 - accuracy: 0.8295 - 15s/epoch - 362ms/step\n",
      "Epoch 281/300\n",
      "41/41 - 15s - loss: 0.0384 - accuracy: 0.8359 - 15s/epoch - 358ms/step\n",
      "Epoch 282/300\n",
      "41/41 - 16s - loss: 0.0394 - accuracy: 0.8351 - 16s/epoch - 388ms/step\n",
      "Epoch 283/300\n",
      "41/41 - 17s - loss: 0.0376 - accuracy: 0.8468 - 17s/epoch - 419ms/step\n",
      "Epoch 284/300\n",
      "41/41 - 17s - loss: 0.0365 - accuracy: 0.8446 - 17s/epoch - 409ms/step\n",
      "Epoch 285/300\n",
      "41/41 - 15s - loss: 0.0379 - accuracy: 0.8356 - 15s/epoch - 374ms/step\n",
      "Epoch 286/300\n",
      "41/41 - 15s - loss: 0.0362 - accuracy: 0.8290 - 15s/epoch - 369ms/step\n",
      "Epoch 287/300\n",
      "41/41 - 15s - loss: 0.0354 - accuracy: 0.8359 - 15s/epoch - 372ms/step\n",
      "Epoch 288/300\n",
      "41/41 - 14s - loss: 0.0351 - accuracy: 0.8416 - 14s/epoch - 349ms/step\n",
      "Epoch 289/300\n",
      "41/41 - 14s - loss: 0.0347 - accuracy: 0.8359 - 14s/epoch - 352ms/step\n",
      "Epoch 290/300\n",
      "41/41 - 15s - loss: 0.0336 - accuracy: 0.8337 - 15s/epoch - 362ms/step\n",
      "Epoch 291/300\n",
      "41/41 - 15s - loss: 0.0338 - accuracy: 0.8455 - 15s/epoch - 366ms/step\n",
      "Epoch 292/300\n",
      "41/41 - 15s - loss: 0.0335 - accuracy: 0.8490 - 15s/epoch - 359ms/step\n",
      "Epoch 293/300\n",
      "41/41 - 18s - loss: 0.0327 - accuracy: 0.8483 - 18s/epoch - 436ms/step\n",
      "Epoch 294/300\n",
      "41/41 - 16s - loss: 0.0336 - accuracy: 0.8448 - 16s/epoch - 392ms/step\n",
      "Epoch 295/300\n",
      "41/41 - 17s - loss: 0.0322 - accuracy: 0.8468 - 17s/epoch - 424ms/step\n",
      "Epoch 296/300\n",
      "41/41 - 15s - loss: 0.0324 - accuracy: 0.8490 - 15s/epoch - 358ms/step\n",
      "Epoch 297/300\n",
      "41/41 - 14s - loss: 0.0315 - accuracy: 0.8473 - 14s/epoch - 351ms/step\n",
      "Epoch 298/300\n",
      "41/41 - 15s - loss: 0.0309 - accuracy: 0.8532 - 15s/epoch - 354ms/step\n",
      "Epoch 299/300\n",
      "41/41 - 14s - loss: 0.0304 - accuracy: 0.8480 - 14s/epoch - 345ms/step\n",
      "Epoch 300/300\n",
      "41/41 - 14s - loss: 0.0308 - accuracy: 0.8564 - 14s/epoch - 351ms/step\n"
     ]
    },
    {
     "data": {
      "text/plain": [
       "<keras.src.callbacks.History at 0x1c4a8d02440>"
      ]
     },
     "execution_count": 31,
     "metadata": {},
     "output_type": "execute_result"
    }
   ],
   "source": [
    "model.fit(x=X, y=y, batch_size=100, epochs=300, verbose=2)"
   ]
  },
  {
   "cell_type": "markdown",
   "metadata": {},
   "source": [
    "## Evaluation\n",
    "\n",
    "Let's take the results of the last 8 Israelli general lottery games:"
   ]
  },
  {
   "cell_type": "code",
   "execution_count": 32,
   "metadata": {},
   "outputs": [
    {
     "data": {
      "text/html": [
       "<div>\n",
       "<style scoped>\n",
       "    .dataframe tbody tr th:only-of-type {\n",
       "        vertical-align: middle;\n",
       "    }\n",
       "\n",
       "    .dataframe tbody tr th {\n",
       "        vertical-align: top;\n",
       "    }\n",
       "\n",
       "    .dataframe thead th {\n",
       "        text-align: right;\n",
       "    }\n",
       "</style>\n",
       "<table border=\"1\" class=\"dataframe\">\n",
       "  <thead>\n",
       "    <tr style=\"text-align: right;\">\n",
       "      <th></th>\n",
       "      <th>A</th>\n",
       "      <th>B</th>\n",
       "      <th>C</th>\n",
       "      <th>D</th>\n",
       "      <th>E</th>\n",
       "      <th>F</th>\n",
       "    </tr>\n",
       "  </thead>\n",
       "  <tbody>\n",
       "    <tr>\n",
       "      <th>4039</th>\n",
       "      <td>1</td>\n",
       "      <td>14</td>\n",
       "      <td>15</td>\n",
       "      <td>17</td>\n",
       "      <td>28</td>\n",
       "      <td>37</td>\n",
       "    </tr>\n",
       "    <tr>\n",
       "      <th>4040</th>\n",
       "      <td>3</td>\n",
       "      <td>13</td>\n",
       "      <td>21</td>\n",
       "      <td>24</td>\n",
       "      <td>27</td>\n",
       "      <td>35</td>\n",
       "    </tr>\n",
       "    <tr>\n",
       "      <th>4041</th>\n",
       "      <td>17</td>\n",
       "      <td>19</td>\n",
       "      <td>21</td>\n",
       "      <td>23</td>\n",
       "      <td>25</td>\n",
       "      <td>34</td>\n",
       "    </tr>\n",
       "    <tr>\n",
       "      <th>4042</th>\n",
       "      <td>9</td>\n",
       "      <td>16</td>\n",
       "      <td>17</td>\n",
       "      <td>21</td>\n",
       "      <td>26</td>\n",
       "      <td>29</td>\n",
       "    </tr>\n",
       "    <tr>\n",
       "      <th>4043</th>\n",
       "      <td>1</td>\n",
       "      <td>4</td>\n",
       "      <td>5</td>\n",
       "      <td>24</td>\n",
       "      <td>31</td>\n",
       "      <td>32</td>\n",
       "    </tr>\n",
       "    <tr>\n",
       "      <th>4044</th>\n",
       "      <td>1</td>\n",
       "      <td>8</td>\n",
       "      <td>18</td>\n",
       "      <td>25</td>\n",
       "      <td>29</td>\n",
       "      <td>30</td>\n",
       "    </tr>\n",
       "    <tr>\n",
       "      <th>4045</th>\n",
       "      <td>3</td>\n",
       "      <td>4</td>\n",
       "      <td>5</td>\n",
       "      <td>15</td>\n",
       "      <td>24</td>\n",
       "      <td>33</td>\n",
       "    </tr>\n",
       "    <tr>\n",
       "      <th>4046</th>\n",
       "      <td>6</td>\n",
       "      <td>10</td>\n",
       "      <td>13</td>\n",
       "      <td>20</td>\n",
       "      <td>23</td>\n",
       "      <td>35</td>\n",
       "    </tr>\n",
       "  </tbody>\n",
       "</table>\n",
       "</div>"
      ],
      "text/plain": [
       "       A   B   C   D   E   F\n",
       "4039   1  14  15  17  28  37\n",
       "4040   3  13  21  24  27  35\n",
       "4041  17  19  21  23  25  34\n",
       "4042   9  16  17  21  26  29\n",
       "4043   1   4   5  24  31  32\n",
       "4044   1   8  18  25  29  30\n",
       "4045   3   4   5  15  24  33\n",
       "4046   6  10  13  20  23  35"
      ]
     },
     "execution_count": 32,
     "metadata": {},
     "output_type": "execute_result"
    }
   ],
   "source": [
    "to_predict = df.tail(8)\n",
    "to_predict"
   ]
  },
  {
   "cell_type": "markdown",
   "metadata": {},
   "source": [
    "Let's remove the last raw from the 8 last games"
   ]
  },
  {
   "cell_type": "code",
   "execution_count": 33,
   "metadata": {},
   "outputs": [
    {
     "name": "stderr",
     "output_type": "stream",
     "text": [
      "C:\\Users\\aagui\\AppData\\Local\\Temp\\ipykernel_18028\\3170915665.py:1: SettingWithCopyWarning: \n",
      "A value is trying to be set on a copy of a slice from a DataFrame\n",
      "\n",
      "See the caveats in the documentation: https://pandas.pydata.org/pandas-docs/stable/user_guide/indexing.html#returning-a-view-versus-a-copy\n",
      "  to_predict.drop([to_predict.index[-1]], axis=0, inplace=True)\n"
     ]
    },
    {
     "data": {
      "text/html": [
       "<div>\n",
       "<style scoped>\n",
       "    .dataframe tbody tr th:only-of-type {\n",
       "        vertical-align: middle;\n",
       "    }\n",
       "\n",
       "    .dataframe tbody tr th {\n",
       "        vertical-align: top;\n",
       "    }\n",
       "\n",
       "    .dataframe thead th {\n",
       "        text-align: right;\n",
       "    }\n",
       "</style>\n",
       "<table border=\"1\" class=\"dataframe\">\n",
       "  <thead>\n",
       "    <tr style=\"text-align: right;\">\n",
       "      <th></th>\n",
       "      <th>A</th>\n",
       "      <th>B</th>\n",
       "      <th>C</th>\n",
       "      <th>D</th>\n",
       "      <th>E</th>\n",
       "      <th>F</th>\n",
       "    </tr>\n",
       "  </thead>\n",
       "  <tbody>\n",
       "    <tr>\n",
       "      <th>4039</th>\n",
       "      <td>1</td>\n",
       "      <td>14</td>\n",
       "      <td>15</td>\n",
       "      <td>17</td>\n",
       "      <td>28</td>\n",
       "      <td>37</td>\n",
       "    </tr>\n",
       "    <tr>\n",
       "      <th>4040</th>\n",
       "      <td>3</td>\n",
       "      <td>13</td>\n",
       "      <td>21</td>\n",
       "      <td>24</td>\n",
       "      <td>27</td>\n",
       "      <td>35</td>\n",
       "    </tr>\n",
       "    <tr>\n",
       "      <th>4041</th>\n",
       "      <td>17</td>\n",
       "      <td>19</td>\n",
       "      <td>21</td>\n",
       "      <td>23</td>\n",
       "      <td>25</td>\n",
       "      <td>34</td>\n",
       "    </tr>\n",
       "    <tr>\n",
       "      <th>4042</th>\n",
       "      <td>9</td>\n",
       "      <td>16</td>\n",
       "      <td>17</td>\n",
       "      <td>21</td>\n",
       "      <td>26</td>\n",
       "      <td>29</td>\n",
       "    </tr>\n",
       "    <tr>\n",
       "      <th>4043</th>\n",
       "      <td>1</td>\n",
       "      <td>4</td>\n",
       "      <td>5</td>\n",
       "      <td>24</td>\n",
       "      <td>31</td>\n",
       "      <td>32</td>\n",
       "    </tr>\n",
       "    <tr>\n",
       "      <th>4044</th>\n",
       "      <td>1</td>\n",
       "      <td>8</td>\n",
       "      <td>18</td>\n",
       "      <td>25</td>\n",
       "      <td>29</td>\n",
       "      <td>30</td>\n",
       "    </tr>\n",
       "    <tr>\n",
       "      <th>4045</th>\n",
       "      <td>3</td>\n",
       "      <td>4</td>\n",
       "      <td>5</td>\n",
       "      <td>15</td>\n",
       "      <td>24</td>\n",
       "      <td>33</td>\n",
       "    </tr>\n",
       "  </tbody>\n",
       "</table>\n",
       "</div>"
      ],
      "text/plain": [
       "       A   B   C   D   E   F\n",
       "4039   1  14  15  17  28  37\n",
       "4040   3  13  21  24  27  35\n",
       "4041  17  19  21  23  25  34\n",
       "4042   9  16  17  21  26  29\n",
       "4043   1   4   5  24  31  32\n",
       "4044   1   8  18  25  29  30\n",
       "4045   3   4   5  15  24  33"
      ]
     },
     "execution_count": 33,
     "metadata": {},
     "output_type": "execute_result"
    }
   ],
   "source": [
    "to_predict.drop([to_predict.index[-1]], axis=0, inplace=True)\n",
    "to_predict"
   ]
  },
  {
   "cell_type": "markdown",
   "metadata": {},
   "source": [
    "We got exactly the 7 last games before the May 24th, 2022 lottety game.\n",
    "\n",
    "Now, let’s take the results of the May 24th, 2022 lottety game and place it into a variable called “prediction”"
   ]
  },
  {
   "cell_type": "code",
   "execution_count": 34,
   "metadata": {},
   "outputs": [
    {
     "data": {
      "text/html": [
       "<div>\n",
       "<style scoped>\n",
       "    .dataframe tbody tr th:only-of-type {\n",
       "        vertical-align: middle;\n",
       "    }\n",
       "\n",
       "    .dataframe tbody tr th {\n",
       "        vertical-align: top;\n",
       "    }\n",
       "\n",
       "    .dataframe thead th {\n",
       "        text-align: right;\n",
       "    }\n",
       "</style>\n",
       "<table border=\"1\" class=\"dataframe\">\n",
       "  <thead>\n",
       "    <tr style=\"text-align: right;\">\n",
       "      <th></th>\n",
       "      <th>A</th>\n",
       "      <th>B</th>\n",
       "      <th>C</th>\n",
       "      <th>D</th>\n",
       "      <th>E</th>\n",
       "      <th>F</th>\n",
       "    </tr>\n",
       "  </thead>\n",
       "  <tbody>\n",
       "    <tr>\n",
       "      <th>4046</th>\n",
       "      <td>6</td>\n",
       "      <td>10</td>\n",
       "      <td>13</td>\n",
       "      <td>20</td>\n",
       "      <td>23</td>\n",
       "      <td>35</td>\n",
       "    </tr>\n",
       "  </tbody>\n",
       "</table>\n",
       "</div>"
      ],
      "text/plain": [
       "      A   B   C   D   E   F\n",
       "4046  6  10  13  20  23  35"
      ]
     },
     "execution_count": 34,
     "metadata": {},
     "output_type": "execute_result"
    }
   ],
   "source": [
    "prediction = df.tail(1)\n",
    "prediction"
   ]
  },
  {
   "cell_type": "markdown",
   "metadata": {},
   "source": [
    "Next, we have to change the format of our last 7 games from dataframe to np.array in order to insert them into our model"
   ]
  },
  {
   "cell_type": "code",
   "execution_count": 35,
   "metadata": {},
   "outputs": [
    {
     "data": {
      "text/plain": [
       "array([[ 1, 14, 15, 17, 28, 37],\n",
       "       [ 3, 13, 21, 24, 27, 35],\n",
       "       [17, 19, 21, 23, 25, 34],\n",
       "       [ 9, 16, 17, 21, 26, 29],\n",
       "       [ 1,  4,  5, 24, 31, 32],\n",
       "       [ 1,  8, 18, 25, 29, 30],\n",
       "       [ 3,  4,  5, 15, 24, 33]], dtype=int64)"
      ]
     },
     "execution_count": 35,
     "metadata": {},
     "output_type": "execute_result"
    }
   ],
   "source": [
    "to_predict = np.array(to_predict)\n",
    "to_predict"
   ]
  },
  {
   "cell_type": "markdown",
   "metadata": {},
   "source": [
    "Then, we have to re-scale those 7 games"
   ]
  },
  {
   "cell_type": "code",
   "execution_count": 36,
   "metadata": {},
   "outputs": [
    {
     "data": {
      "text/plain": [
       "array([[-1.01374645,  0.429455  , -0.3178549 , -0.8722243 , -0.12023262,\n",
       "         0.40013555],\n",
       "       [-0.58223113,  0.26243555,  0.57804211,  0.1542054 , -0.27139179,\n",
       "         0.0617137 ],\n",
       "       [ 2.4383761 ,  1.26455224,  0.57804211,  0.00757259, -0.57371015,\n",
       "        -0.10749723],\n",
       "       [ 0.71231482,  0.76349389, -0.01922257, -0.28569304, -0.42255097,\n",
       "        -0.95355186],\n",
       "       [-1.01374645, -1.24073948, -1.8110166 ,  0.1542054 ,  0.33324492,\n",
       "        -0.44591908],\n",
       "       [-1.01374645, -0.57266169,  0.1300936 ,  0.30083822,  0.03092656,\n",
       "        -0.78434094],\n",
       "       [-0.58223113, -1.24073948, -1.8110166 , -1.16548993, -0.72486933,\n",
       "        -0.27670816]])"
      ]
     },
     "execution_count": 36,
     "metadata": {},
     "output_type": "execute_result"
    }
   ],
   "source": [
    "scaled_to_predict = scaler.transform(to_predict)\n",
    "scaled_to_predict"
   ]
  },
  {
   "cell_type": "markdown",
   "metadata": {},
   "source": [
    "Now, let’s predict the results (i.e., the 6 numbers) of the May 24th, 2022 lottety game based on those 7 games:"
   ]
  },
  {
   "cell_type": "code",
   "execution_count": 39,
   "metadata": {},
   "outputs": [
    {
     "name": "stdout",
     "output_type": "stream",
     "text": [
      "1/1 [==============================] - 4s 4s/step\n",
      "The predicted numbers in the last lottery game are: [ 5  9 12 19 22 35]\n"
     ]
    }
   ],
   "source": [
    "y_pred = model.predict(np.array([scaled_to_predict]))\n",
    "\n",
    "print(\"The predicted numbers in the last lottery game are:\", scaler.inverse_transform(y_pred).astype(int)[0])"
   ]
  },
  {
   "cell_type": "markdown",
   "metadata": {},
   "source": [
    "Let’s see what were the real results of the May 24th, 2022 lottety game:"
   ]
  },
  {
   "cell_type": "code",
   "execution_count": 40,
   "metadata": {},
   "outputs": [
    {
     "name": "stdout",
     "output_type": "stream",
     "text": [
      "The actual numbers in the last lottery game were: [ 6 10 13 20 23 35]\n"
     ]
    }
   ],
   "source": [
    "prediction = np.array(prediction)\n",
    "\n",
    "print(\"The actual numbers in the last lottery game were:\", prediction[0])"
   ]
  },
  {
   "cell_type": "markdown",
   "metadata": {},
   "source": [
    "3 number's out of 6 numbers, not bad at all!!! especially considering the fact that there was not supposed to be a model within the data, that is, the numbers had to be 100% random."
   ]
  }
 ],
 "metadata": {
  "kernelspec": {
   "display_name": "Python 3",
   "language": "python",
   "name": "python3"
  },
  "language_info": {
   "codemirror_mode": {
    "name": "ipython",
    "version": 3
   },
   "file_extension": ".py",
   "mimetype": "text/x-python",
   "name": "python",
   "nbconvert_exporter": "python",
   "pygments_lexer": "ipython3",
   "version": "3.10.5"
  }
 },
 "nbformat": 4,
 "nbformat_minor": 2
}
